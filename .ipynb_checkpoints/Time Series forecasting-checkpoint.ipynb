{
 "cells": [
  {
   "cell_type": "code",
   "execution_count": 139,
   "metadata": {},
   "outputs": [],
   "source": [
    "import warnings\n",
    "import itertools\n",
    "import numpy as np\n",
    "import matplotlib.pyplot as plt\n",
    "warnings.filterwarnings(\"ignore\")\n",
    "plt.style.use('fivethirtyeight')\n",
    "import pandas as pd\n",
    "import statsmodels.api as sm\n",
    "import matplotlib"
   ]
  },
  {
   "cell_type": "code",
   "execution_count": 140,
   "metadata": {},
   "outputs": [],
   "source": [
    "pd.set_option('display.max_rows', 500)\n",
    "pd.set_option('display.max_columns', 500)\n",
    "pd.set_option('display.width', 1000)"
   ]
  },
  {
   "cell_type": "code",
   "execution_count": 141,
   "metadata": {},
   "outputs": [
    {
     "data": {
      "text/html": [
       "<div>\n",
       "<style scoped>\n",
       "    .dataframe tbody tr th:only-of-type {\n",
       "        vertical-align: middle;\n",
       "    }\n",
       "\n",
       "    .dataframe tbody tr th {\n",
       "        vertical-align: top;\n",
       "    }\n",
       "\n",
       "    .dataframe thead th {\n",
       "        text-align: right;\n",
       "    }\n",
       "</style>\n",
       "<table border=\"1\" class=\"dataframe\">\n",
       "  <thead>\n",
       "    <tr style=\"text-align: right;\">\n",
       "      <th></th>\n",
       "      <th>Row ID</th>\n",
       "      <th>Order ID</th>\n",
       "      <th>Order Date</th>\n",
       "      <th>Ship Date</th>\n",
       "      <th>Ship Mode</th>\n",
       "      <th>Customer ID</th>\n",
       "      <th>Customer Name</th>\n",
       "      <th>Segment</th>\n",
       "      <th>Country</th>\n",
       "      <th>City</th>\n",
       "      <th>State</th>\n",
       "      <th>Postal Code</th>\n",
       "      <th>Region</th>\n",
       "      <th>Product ID</th>\n",
       "      <th>Category</th>\n",
       "      <th>Sub-Category</th>\n",
       "      <th>Product Name</th>\n",
       "      <th>Sales</th>\n",
       "      <th>Quantity</th>\n",
       "      <th>Discount</th>\n",
       "      <th>Profit</th>\n",
       "    </tr>\n",
       "  </thead>\n",
       "  <tbody>\n",
       "    <tr>\n",
       "      <th>0</th>\n",
       "      <td>1</td>\n",
       "      <td>CA-2016-152156</td>\n",
       "      <td>2016-11-08</td>\n",
       "      <td>2016-11-11</td>\n",
       "      <td>Second Class</td>\n",
       "      <td>CG-12520</td>\n",
       "      <td>Claire Gute</td>\n",
       "      <td>Consumer</td>\n",
       "      <td>United States</td>\n",
       "      <td>Henderson</td>\n",
       "      <td>Kentucky</td>\n",
       "      <td>42420</td>\n",
       "      <td>South</td>\n",
       "      <td>FUR-BO-10001798</td>\n",
       "      <td>Furniture</td>\n",
       "      <td>Bookcases</td>\n",
       "      <td>Bush Somerset Collection Bookcase</td>\n",
       "      <td>261.9600</td>\n",
       "      <td>2</td>\n",
       "      <td>0.00</td>\n",
       "      <td>41.9136</td>\n",
       "    </tr>\n",
       "    <tr>\n",
       "      <th>1</th>\n",
       "      <td>2</td>\n",
       "      <td>CA-2016-152156</td>\n",
       "      <td>2016-11-08</td>\n",
       "      <td>2016-11-11</td>\n",
       "      <td>Second Class</td>\n",
       "      <td>CG-12520</td>\n",
       "      <td>Claire Gute</td>\n",
       "      <td>Consumer</td>\n",
       "      <td>United States</td>\n",
       "      <td>Henderson</td>\n",
       "      <td>Kentucky</td>\n",
       "      <td>42420</td>\n",
       "      <td>South</td>\n",
       "      <td>FUR-CH-10000454</td>\n",
       "      <td>Furniture</td>\n",
       "      <td>Chairs</td>\n",
       "      <td>Hon Deluxe Fabric Upholstered Stacking Chairs, Rounded Back</td>\n",
       "      <td>731.9400</td>\n",
       "      <td>3</td>\n",
       "      <td>0.00</td>\n",
       "      <td>219.5820</td>\n",
       "    </tr>\n",
       "    <tr>\n",
       "      <th>2</th>\n",
       "      <td>3</td>\n",
       "      <td>CA-2016-138688</td>\n",
       "      <td>2016-06-12</td>\n",
       "      <td>2016-06-16</td>\n",
       "      <td>Second Class</td>\n",
       "      <td>DV-13045</td>\n",
       "      <td>Darrin Van Huff</td>\n",
       "      <td>Corporate</td>\n",
       "      <td>United States</td>\n",
       "      <td>Los Angeles</td>\n",
       "      <td>California</td>\n",
       "      <td>90036</td>\n",
       "      <td>West</td>\n",
       "      <td>OFF-LA-10000240</td>\n",
       "      <td>Office Supplies</td>\n",
       "      <td>Labels</td>\n",
       "      <td>Self-Adhesive Address Labels for Typewriters by Universal</td>\n",
       "      <td>14.6200</td>\n",
       "      <td>2</td>\n",
       "      <td>0.00</td>\n",
       "      <td>6.8714</td>\n",
       "    </tr>\n",
       "    <tr>\n",
       "      <th>3</th>\n",
       "      <td>4</td>\n",
       "      <td>US-2015-108966</td>\n",
       "      <td>2015-10-11</td>\n",
       "      <td>2015-10-18</td>\n",
       "      <td>Standard Class</td>\n",
       "      <td>SO-20335</td>\n",
       "      <td>Sean O'Donnell</td>\n",
       "      <td>Consumer</td>\n",
       "      <td>United States</td>\n",
       "      <td>Fort Lauderdale</td>\n",
       "      <td>Florida</td>\n",
       "      <td>33311</td>\n",
       "      <td>South</td>\n",
       "      <td>FUR-TA-10000577</td>\n",
       "      <td>Furniture</td>\n",
       "      <td>Tables</td>\n",
       "      <td>Bretford CR4500 Series Slim Rectangular Table</td>\n",
       "      <td>957.5775</td>\n",
       "      <td>5</td>\n",
       "      <td>0.45</td>\n",
       "      <td>-383.0310</td>\n",
       "    </tr>\n",
       "    <tr>\n",
       "      <th>4</th>\n",
       "      <td>5</td>\n",
       "      <td>US-2015-108966</td>\n",
       "      <td>2015-10-11</td>\n",
       "      <td>2015-10-18</td>\n",
       "      <td>Standard Class</td>\n",
       "      <td>SO-20335</td>\n",
       "      <td>Sean O'Donnell</td>\n",
       "      <td>Consumer</td>\n",
       "      <td>United States</td>\n",
       "      <td>Fort Lauderdale</td>\n",
       "      <td>Florida</td>\n",
       "      <td>33311</td>\n",
       "      <td>South</td>\n",
       "      <td>OFF-ST-10000760</td>\n",
       "      <td>Office Supplies</td>\n",
       "      <td>Storage</td>\n",
       "      <td>Eldon Fold 'N Roll Cart System</td>\n",
       "      <td>22.3680</td>\n",
       "      <td>2</td>\n",
       "      <td>0.20</td>\n",
       "      <td>2.5164</td>\n",
       "    </tr>\n",
       "  </tbody>\n",
       "</table>\n",
       "</div>"
      ],
      "text/plain": [
       "   Row ID        Order ID Order Date  Ship Date       Ship Mode Customer ID    Customer Name    Segment        Country             City       State  Postal Code Region       Product ID         Category Sub-Category                                                 Product Name     Sales  Quantity  Discount    Profit\n",
       "0  1       CA-2016-152156 2016-11-08 2016-11-11  Second Class    CG-12520    Claire Gute      Consumer   United States  Henderson        Kentucky    42420        South  FUR-BO-10001798  Furniture        Bookcases    Bush Somerset Collection Bookcase                            261.9600  2         0.00      41.9136 \n",
       "1  2       CA-2016-152156 2016-11-08 2016-11-11  Second Class    CG-12520    Claire Gute      Consumer   United States  Henderson        Kentucky    42420        South  FUR-CH-10000454  Furniture        Chairs       Hon Deluxe Fabric Upholstered Stacking Chairs, Rounded Back  731.9400  3         0.00      219.5820\n",
       "2  3       CA-2016-138688 2016-06-12 2016-06-16  Second Class    DV-13045    Darrin Van Huff  Corporate  United States  Los Angeles      California  90036        West   OFF-LA-10000240  Office Supplies  Labels       Self-Adhesive Address Labels for Typewriters by Universal    14.6200   2         0.00      6.8714  \n",
       "3  4       US-2015-108966 2015-10-11 2015-10-18  Standard Class  SO-20335    Sean O'Donnell   Consumer   United States  Fort Lauderdale  Florida     33311        South  FUR-TA-10000577  Furniture        Tables       Bretford CR4500 Series Slim Rectangular Table                957.5775  5         0.45     -383.0310\n",
       "4  5       US-2015-108966 2015-10-11 2015-10-18  Standard Class  SO-20335    Sean O'Donnell   Consumer   United States  Fort Lauderdale  Florida     33311        South  OFF-ST-10000760  Office Supplies  Storage      Eldon Fold 'N Roll Cart System                               22.3680   2         0.20      2.5164  "
      ]
     },
     "execution_count": 141,
     "metadata": {},
     "output_type": "execute_result"
    }
   ],
   "source": [
    "df = pd.read_excel('Sample - Superstore.xls',\n",
    "                  delimiter = ', ')\n",
    "df.head()\n"
   ]
  },
  {
   "cell_type": "code",
   "execution_count": 142,
   "metadata": {},
   "outputs": [],
   "source": [
    "Furniture = df[df['Category'] == \"Furniture\"]"
   ]
  },
  {
   "cell_type": "markdown",
   "metadata": {},
   "source": [
    "Checking order date range"
   ]
  },
  {
   "cell_type": "code",
   "execution_count": 143,
   "metadata": {},
   "outputs": [
    {
     "data": {
      "text/plain": [
       "(Timestamp('2014-01-06 00:00:00'), Timestamp('2017-12-30 00:00:00'))"
      ]
     },
     "execution_count": 143,
     "metadata": {},
     "output_type": "execute_result"
    }
   ],
   "source": [
    "Furniture['Order Date'].min(), Furniture['Order Date'].max()\n"
   ]
  },
  {
   "cell_type": "markdown",
   "metadata": {},
   "source": [
    "we have good data of four years"
   ]
  },
  {
   "cell_type": "code",
   "execution_count": 144,
   "metadata": {},
   "outputs": [
    {
     "data": {
      "text/plain": [
       "['Row ID',\n",
       " 'Order ID',\n",
       " 'Order Date',\n",
       " 'Ship Date',\n",
       " 'Ship Mode',\n",
       " 'Customer ID',\n",
       " 'Customer Name',\n",
       " 'Segment',\n",
       " 'Country',\n",
       " 'City',\n",
       " 'State',\n",
       " 'Postal Code',\n",
       " 'Region',\n",
       " 'Product ID',\n",
       " 'Category',\n",
       " 'Sub-Category',\n",
       " 'Product Name',\n",
       " 'Sales',\n",
       " 'Quantity',\n",
       " 'Discount',\n",
       " 'Profit']"
      ]
     },
     "execution_count": 144,
     "metadata": {},
     "output_type": "execute_result"
    }
   ],
   "source": [
    "list(df)"
   ]
  },
  {
   "cell_type": "markdown",
   "metadata": {},
   "source": [
    "Removing not necessary columns"
   ]
  },
  {
   "cell_type": "code",
   "execution_count": 145,
   "metadata": {},
   "outputs": [
    {
     "data": {
      "text/html": [
       "<div>\n",
       "<style scoped>\n",
       "    .dataframe tbody tr th:only-of-type {\n",
       "        vertical-align: middle;\n",
       "    }\n",
       "\n",
       "    .dataframe tbody tr th {\n",
       "        vertical-align: top;\n",
       "    }\n",
       "\n",
       "    .dataframe thead th {\n",
       "        text-align: right;\n",
       "    }\n",
       "</style>\n",
       "<table border=\"1\" class=\"dataframe\">\n",
       "  <thead>\n",
       "    <tr style=\"text-align: right;\">\n",
       "      <th></th>\n",
       "      <th>Order Date</th>\n",
       "      <th>Sales</th>\n",
       "    </tr>\n",
       "  </thead>\n",
       "  <tbody>\n",
       "    <tr>\n",
       "      <th>0</th>\n",
       "      <td>2016-11-08</td>\n",
       "      <td>261.9600</td>\n",
       "    </tr>\n",
       "    <tr>\n",
       "      <th>1</th>\n",
       "      <td>2016-11-08</td>\n",
       "      <td>731.9400</td>\n",
       "    </tr>\n",
       "    <tr>\n",
       "      <th>3</th>\n",
       "      <td>2015-10-11</td>\n",
       "      <td>957.5775</td>\n",
       "    </tr>\n",
       "    <tr>\n",
       "      <th>5</th>\n",
       "      <td>2014-06-09</td>\n",
       "      <td>48.8600</td>\n",
       "    </tr>\n",
       "    <tr>\n",
       "      <th>10</th>\n",
       "      <td>2014-06-09</td>\n",
       "      <td>1706.1840</td>\n",
       "    </tr>\n",
       "  </tbody>\n",
       "</table>\n",
       "</div>"
      ],
      "text/plain": [
       "   Order Date      Sales\n",
       "0  2016-11-08  261.9600 \n",
       "1  2016-11-08  731.9400 \n",
       "3  2015-10-11  957.5775 \n",
       "5  2014-06-09  48.8600  \n",
       "10 2014-06-09  1706.1840"
      ]
     },
     "execution_count": 145,
     "metadata": {},
     "output_type": "execute_result"
    }
   ],
   "source": [
    "cols = ['Row ID', 'Order ID', 'Ship Date', 'Ship Mode', 'Customer ID', 'Customer Name', 'Segment', 'Country', 'City', 'State', \n",
    " 'Postal Code', 'Region', 'Product ID', 'Category','Sub-Category', 'Product Name', 'Quantity','Discount', 'Profit']\n",
    "Furniture.drop(cols, axis = 1, inplace = True)\n",
    "Furniture.head()"
   ]
  },
  {
   "cell_type": "code",
   "execution_count": 146,
   "metadata": {},
   "outputs": [
    {
     "data": {
      "text/plain": [
       "Order Date    0\n",
       "Sales         0\n",
       "dtype: int64"
      ]
     },
     "execution_count": 146,
     "metadata": {},
     "output_type": "execute_result"
    }
   ],
   "source": [
    "Furniture = Furniture.sort_values('Order Date')\n",
    "Furniture.isnull().sum()"
   ]
  },
  {
   "cell_type": "code",
   "execution_count": 147,
   "metadata": {},
   "outputs": [],
   "source": [
    "Furniture = Furniture.groupby('Order Date')['Sales'].sum().reset_index()\n",
    "\n"
   ]
  },
  {
   "cell_type": "code",
   "execution_count": null,
   "metadata": {},
   "outputs": [],
   "source": []
  },
  {
   "cell_type": "markdown",
   "metadata": {},
   "source": [
    "Indexing "
   ]
  },
  {
   "cell_type": "code",
   "execution_count": 148,
   "metadata": {},
   "outputs": [
    {
     "data": {
      "text/plain": [
       "DatetimeIndex(['2014-01-06', '2014-01-07', '2014-01-10', '2014-01-11', '2014-01-13', '2014-01-14', '2014-01-16', '2014-01-19', '2014-01-20', '2014-01-21', '2014-01-26', '2014-01-27', '2014-01-31', '2014-02-08', '2014-02-11', '2014-02-12', '2014-02-18', '2014-02-20', '2014-03-01', '2014-03-03', '2014-03-07', '2014-03-11', '2014-03-14', '2014-03-15', '2014-03-17', '2014-03-18', '2014-03-19', '2014-03-21', '2014-03-22', '2014-03-24', '2014-03-25', '2014-03-28', '2014-03-29', '2014-03-30', '2014-03-31', '2014-04-02', '2014-04-04', '2014-04-06', '2014-04-07', '2014-04-08', '2014-04-12', '2014-04-15', '2014-04-18', '2014-04-19', '2014-04-20', '2014-04-23', '2014-04-25', '2014-04-26', '2014-04-29', '2014-05-04', '2014-05-05', '2014-05-07', '2014-05-10', '2014-05-11', '2014-05-12', '2014-05-13', '2014-05-14', '2014-05-16', '2014-05-18', '2014-05-20', '2014-05-21', '2014-05-25', '2014-05-26', '2014-05-27', '2014-05-30', '2014-06-01', '2014-06-02', '2014-06-03', '2014-06-04', '2014-06-06',\n",
       "               '2014-06-07', '2014-06-08', '2014-06-09', '2014-06-14', '2014-06-15', '2014-06-16', '2014-06-17', '2014-06-20', '2014-06-21', '2014-06-22', '2014-06-24', '2014-06-25', '2014-06-27', '2014-06-28', '2014-07-05', '2014-07-06', '2014-07-07', '2014-07-08', '2014-07-09', '2014-07-11', '2014-07-12', '2014-07-13', '2014-07-14', '2014-07-18', '2014-07-19', '2014-07-20', '2014-07-21', '2014-07-22', '2014-07-25', '2014-07-26', '2014-07-28', '2014-07-30', '2014-08-01', '2014-08-03', '2014-08-05', '2014-08-08', '2014-08-11', '2014-08-12', '2014-08-15', '2014-08-16', '2014-08-19', '2014-08-20', '2014-08-23', '2014-08-24', '2014-08-25', '2014-08-26', '2014-08-27', '2014-08-29', '2014-09-02', '2014-09-05', '2014-09-06', '2014-09-07', '2014-09-08', '2014-09-09', '2014-09-10', '2014-09-11', '2014-09-12', '2014-09-13', '2014-09-14', '2014-09-15', '2014-09-17', '2014-09-19', '2014-09-20', '2014-09-21', '2014-09-22', '2014-09-23', '2014-09-25', '2014-09-26', '2014-09-27', '2014-09-28',\n",
       "               '2014-09-29', '2014-09-30', '2014-10-03', '2014-10-04', '2014-10-07', '2014-10-10', '2014-10-11', '2014-10-13', '2014-10-14', '2014-10-15', '2014-10-17', '2014-10-18', '2014-10-20', '2014-10-21', '2014-10-22', '2014-10-26', '2014-10-28', '2014-10-31', '2014-11-01', '2014-11-02', '2014-11-03', '2014-11-04', '2014-11-05', '2014-11-07', '2014-11-09', '2014-11-10', '2014-11-11', '2014-11-12', '2014-11-14', '2014-11-15', '2014-11-16', '2014-11-17', '2014-11-18', '2014-11-19', '2014-11-23', '2014-11-24', '2014-11-25', '2014-11-26', '2014-11-27', '2014-11-28', '2014-12-01', '2014-12-02', '2014-12-06', '2014-12-08', '2014-12-10', '2014-12-12', '2014-12-13', '2014-12-14', '2014-12-15', '2014-12-16', '2014-12-19', '2014-12-20', '2014-12-21', '2014-12-23', '2014-12-24', '2014-12-26', '2014-12-27', '2014-12-29', '2014-12-30', '2014-12-31', '2015-01-02', '2015-01-03', '2015-01-04', '2015-01-05', '2015-01-10', '2015-01-13', '2015-01-17', '2015-01-19', '2015-01-27', '2015-01-28',\n",
       "               '2015-01-30', '2015-01-31', '2015-02-03', '2015-02-06', '2015-02-09', '2015-02-18', '2015-02-27', '2015-02-28', '2015-03-01', '2015-03-02', '2015-03-05', '2015-03-06', '2015-03-08', '2015-03-12', '2015-03-13', '2015-03-16', '2015-03-19', '2015-03-22', '2015-03-23', '2015-03-24', '2015-03-26', '2015-03-29', '2015-03-30', '2015-03-31', '2015-04-04', '2015-04-05', '2015-04-09', '2015-04-11', '2015-04-13', '2015-04-16', '2015-04-18', '2015-04-20', '2015-04-21', '2015-04-25', '2015-04-26', '2015-04-27', '2015-04-30', '2015-05-01', '2015-05-03', '2015-05-04', '2015-05-07', '2015-05-08', '2015-05-11', '2015-05-12', '2015-05-14', '2015-05-20', '2015-05-23', '2015-05-24', '2015-05-25', '2015-05-26', '2015-05-29', '2015-05-31', '2015-06-04', '2015-06-05', '2015-06-08', '2015-06-09', '2015-06-11', '2015-06-12', '2015-06-14', '2015-06-15', '2015-06-16', '2015-06-18', '2015-06-19', '2015-06-20', '2015-06-22', '2015-06-23', '2015-06-25', '2015-06-26', '2015-06-28', '2015-06-29',\n",
       "               '2015-07-02', '2015-07-03', '2015-07-05', '2015-07-06', '2015-07-09', '2015-07-11', '2015-07-12', '2015-07-13', '2015-07-14', '2015-07-16', '2015-07-17', '2015-07-18', '2015-07-20', '2015-07-23', '2015-07-24', '2015-07-25', '2015-07-26', '2015-07-30', '2015-07-31', '2015-08-01', '2015-08-02', '2015-08-05', '2015-08-06', '2015-08-07', '2015-08-08', '2015-08-09', '2015-08-11', '2015-08-13', '2015-08-15', '2015-08-16', '2015-08-21', '2015-08-24', '2015-08-25', '2015-08-28', '2015-08-31', '2015-09-01', '2015-09-03', '2015-09-05', '2015-09-06', '2015-09-07', '2015-09-08', '2015-09-10', '2015-09-11', '2015-09-13', '2015-09-14', '2015-09-15', '2015-09-17', '2015-09-18', '2015-09-19', '2015-09-21', '2015-09-22', '2015-09-24', '2015-09-25', '2015-09-27', '2015-10-02', '2015-10-03', '2015-10-04', '2015-10-05', '2015-10-08', '2015-10-09', '2015-10-10', '2015-10-11', '2015-10-12', '2015-10-13', '2015-10-15', '2015-10-18', '2015-10-20', '2015-10-23', '2015-10-24', '2015-10-25',\n",
       "               '2015-10-28', '2015-10-30', '2015-10-31', '2015-11-01', '2015-11-02', '2015-11-03', '2015-11-05', '2015-11-07', '2015-11-08', '2015-11-09', '2015-11-10', '2015-11-12', '2015-11-13', '2015-11-14', '2015-11-15', '2015-11-16', '2015-11-17', '2015-11-19', '2015-11-20', '2015-11-21', '2015-11-22', '2015-11-24', '2015-11-26', '2015-11-27', '2015-11-28', '2015-11-29', '2015-11-30', '2015-12-01', '2015-12-03', '2015-12-04', '2015-12-05', '2015-12-06', '2015-12-07', '2015-12-10', '2015-12-11', '2015-12-12', '2015-12-14', '2015-12-15', '2015-12-17', '2015-12-18', '2015-12-19', '2015-12-20', '2015-12-21', '2015-12-22', '2015-12-24', '2015-12-25', '2015-12-26', '2015-12-27', '2015-12-31', '2016-01-02', '2016-01-03', '2016-01-07', '2016-01-08', '2016-01-09', '2016-01-10', '2016-01-11', '2016-01-14', '2016-01-15', '2016-01-17', '2016-01-21', '2016-01-22', '2016-01-23', '2016-01-25', '2016-01-30', '2016-02-02', '2016-02-03', '2016-02-04', '2016-02-05', '2016-02-06', '2016-02-08',\n",
       "               '2016-02-14', '2016-02-16', '2016-02-19', '2016-02-21', '2016-02-27', '2016-03-01', '2016-03-03', '2016-03-06', '2016-03-08', '2016-03-09', '2016-03-10', '2016-03-11', '2016-03-12', '2016-03-13', '2016-03-14', '2016-03-15', '2016-03-17', '2016-03-18', '2016-03-19', '2016-03-20', '2016-03-21', '2016-03-22', '2016-03-24', '2016-03-27', '2016-03-29', '2016-03-31', '2016-04-01', '2016-04-02', '2016-04-03', '2016-04-04', '2016-04-07', '2016-04-08', '2016-04-09', '2016-04-12', '2016-04-14', '2016-04-15', '2016-04-16', '2016-04-17', '2016-04-18', '2016-04-19', '2016-04-22', '2016-04-24', '2016-04-26', '2016-04-28', '2016-04-30', '2016-05-01', '2016-05-02', '2016-05-03', '2016-05-05', '2016-05-06', '2016-05-07', '2016-05-08', '2016-05-12', '2016-05-14', '2016-05-16', '2016-05-17', '2016-05-19', '2016-05-20', '2016-05-22', '2016-05-23', '2016-05-25', '2016-05-26', '2016-05-27', '2016-05-28', '2016-05-29', '2016-05-30', '2016-05-31', '2016-06-03', '2016-06-04', '2016-06-06',\n",
       "               '2016-06-09', '2016-06-10', '2016-06-11', '2016-06-12', '2016-06-14', '2016-06-17', '2016-06-20', '2016-06-21', '2016-06-25', '2016-06-26', '2016-06-27', '2016-06-28', '2016-06-30', '2016-07-02', '2016-07-04', '2016-07-07', '2016-07-08', '2016-07-09', '2016-07-14', '2016-07-15', '2016-07-16', '2016-07-17', '2016-07-18', '2016-07-19', '2016-07-21', '2016-07-22', '2016-07-24', '2016-07-25', '2016-07-28', '2016-07-31', '2016-08-01', '2016-08-02', '2016-08-04', '2016-08-08', '2016-08-12', '2016-08-13', '2016-08-15', '2016-08-16', '2016-08-18', '2016-08-21', '2016-08-22', '2016-08-23', '2016-08-26', '2016-08-27', '2016-08-28', '2016-08-29', '2016-08-30', '2016-09-01', '2016-09-02', '2016-09-03', '2016-09-04', '2016-09-05', '2016-09-06', '2016-09-08', '2016-09-09', '2016-09-10', '2016-09-12', '2016-09-13', '2016-09-15', '2016-09-16', '2016-09-17', '2016-09-18', '2016-09-19', '2016-09-20', '2016-09-22', '2016-09-23', '2016-09-24', '2016-09-25', '2016-09-26', '2016-09-27',\n",
       "               '2016-09-30', '2016-10-01', '2016-10-03', '2016-10-04', '2016-10-08', '2016-10-09', '2016-10-10', '2016-10-13', '2016-10-14', '2016-10-16', '2016-10-17', '2016-10-18', '2016-10-20', '2016-10-21', '2016-10-22', '2016-10-23', '2016-10-27', '2016-10-28', '2016-10-29', '2016-10-31', '2016-11-03', '2016-11-04', '2016-11-05', '2016-11-06', '2016-11-07', '2016-11-08', '2016-11-10', '2016-11-11', '2016-11-12', '2016-11-13', '2016-11-14', '2016-11-15', '2016-11-18', '2016-11-19', '2016-11-20', '2016-11-21', '2016-11-22', '2016-11-23', '2016-11-24', '2016-11-25', '2016-11-26', '2016-11-27', '2016-11-28', '2016-11-29', '2016-11-30', '2016-12-01', '2016-12-02', '2016-12-03', '2016-12-04', '2016-12-05', '2016-12-08', '2016-12-09', '2016-12-10', '2016-12-11', '2016-12-12', '2016-12-13', '2016-12-14', '2016-12-15', '2016-12-16', '2016-12-17', '2016-12-18', '2016-12-19', '2016-12-20', '2016-12-22', '2016-12-23', '2016-12-24', '2016-12-25', '2016-12-26', '2016-12-27', '2016-12-29',\n",
       "               '2016-12-30', '2017-01-01', '2017-01-02', '2017-01-08', '2017-01-12', '2017-01-13', '2017-01-14', '2017-01-16', '2017-01-19', '2017-01-20', '2017-01-21', '2017-01-23', '2017-01-26', '2017-01-28', '2017-01-29', '2017-01-30', '2017-02-02', '2017-02-03', '2017-02-06', '2017-02-09', '2017-02-10', '2017-02-11', '2017-02-13', '2017-02-16', '2017-02-17', '2017-02-19', '2017-02-20', '2017-02-25', '2017-02-26', '2017-03-02', '2017-03-03', '2017-03-04', '2017-03-06', '2017-03-10', '2017-03-11', '2017-03-13', '2017-03-16', '2017-03-18', '2017-03-19', '2017-03-20', '2017-03-21', '2017-03-23', '2017-03-24', '2017-03-25', '2017-03-26', '2017-03-27', '2017-03-28', '2017-03-30', '2017-03-31', '2017-04-01', '2017-04-02', '2017-04-03', '2017-04-07', '2017-04-08', '2017-04-10', '2017-04-13', '2017-04-14', '2017-04-15', '2017-04-16', '2017-04-17', '2017-04-20', '2017-04-21', '2017-04-22', '2017-04-23', '2017-04-25', '2017-04-26', '2017-04-27', '2017-04-29', '2017-04-30', '2017-05-01',\n",
       "               '2017-05-02', '2017-05-03', '2017-05-04', '2017-05-05', '2017-05-06', '2017-05-07', '2017-05-08', '2017-05-09', '2017-05-11', '2017-05-12', '2017-05-13', '2017-05-14', '2017-05-15', '2017-05-18', '2017-05-19', '2017-05-20', '2017-05-21', '2017-05-22', '2017-05-23', '2017-05-25', '2017-05-27', '2017-05-28', '2017-05-29', '2017-05-30', '2017-06-01', '2017-06-03', '2017-06-04', '2017-06-06', '2017-06-08', '2017-06-09', '2017-06-10', '2017-06-11', '2017-06-12', '2017-06-13', '2017-06-15', '2017-06-16', '2017-06-17', '2017-06-18', '2017-06-19', '2017-06-21', '2017-06-22', '2017-06-24', '2017-06-25', '2017-06-26', '2017-06-27', '2017-06-29', '2017-06-30', '2017-07-03', '2017-07-05', '2017-07-06', '2017-07-07', '2017-07-08', '2017-07-09', '2017-07-10', '2017-07-13', '2017-07-14', '2017-07-15', '2017-07-16', '2017-07-17', '2017-07-18', '2017-07-20', '2017-07-21', '2017-07-22', '2017-07-25', '2017-07-26', '2017-07-27', '2017-07-29', '2017-07-31', '2017-08-03', '2017-08-06',\n",
       "               '2017-08-07', '2017-08-10', '2017-08-12', '2017-08-13', '2017-08-14', '2017-08-17', '2017-08-18', '2017-08-21', '2017-08-22', '2017-08-23', '2017-08-25', '2017-08-26', '2017-08-27', '2017-08-28', '2017-08-29', '2017-08-31', '2017-09-01', '2017-09-02', '2017-09-03', '2017-09-04', '2017-09-07', '2017-09-08', '2017-09-09', '2017-09-10', '2017-09-11', '2017-09-12', '2017-09-14', '2017-09-15', '2017-09-16', '2017-09-17', '2017-09-18', '2017-09-19', '2017-09-20', '2017-09-22', '2017-09-23', '2017-09-24', '2017-09-25', '2017-09-26', '2017-09-28', '2017-09-29', '2017-10-01', '2017-10-02', '2017-10-03', '2017-10-04', '2017-10-05', '2017-10-06', '2017-10-07', '2017-10-08', '2017-10-09', '2017-10-10', '2017-10-12', '2017-10-13', '2017-10-14', '2017-10-15', '2017-10-16', '2017-10-19', '2017-10-20', '2017-10-21', '2017-10-22', '2017-10-23', '2017-10-24', '2017-10-26', '2017-10-27', '2017-10-28', '2017-10-30', '2017-11-01', '2017-11-02', '2017-11-03', '2017-11-04', '2017-11-05',\n",
       "               '2017-11-06', '2017-11-07', '2017-11-08', '2017-11-09', '2017-11-10', '2017-11-11', '2017-11-12', '2017-11-13', '2017-11-14', '2017-11-15', '2017-11-16', '2017-11-17', '2017-11-18', '2017-11-19', '2017-11-20', '2017-11-21', '2017-11-23', '2017-11-24', '2017-11-25', '2017-11-26', '2017-11-27', '2017-11-28', '2017-11-29', '2017-11-30', '2017-12-01', '2017-12-02', '2017-12-03', '2017-12-04', '2017-12-05', '2017-12-07', '2017-12-08', '2017-12-09', '2017-12-10', '2017-12-11', '2017-12-13', '2017-12-14', '2017-12-15', '2017-12-16', '2017-12-17', '2017-12-18', '2017-12-19', '2017-12-21', '2017-12-22', '2017-12-23', '2017-12-24', '2017-12-25', '2017-12-28', '2017-12-29', '2017-12-30'],\n",
       "              dtype='datetime64[ns]', name='Order Date', freq=None)"
      ]
     },
     "execution_count": 148,
     "metadata": {},
     "output_type": "execute_result"
    }
   ],
   "source": [
    "Furniture = Furniture.set_index('Order Date')\n",
    "Furniture.index"
   ]
  },
  {
   "cell_type": "markdown",
   "metadata": {},
   "source": [
    "use averages daily sales value for month "
   ]
  },
  {
   "cell_type": "code",
   "execution_count": 154,
   "metadata": {},
   "outputs": [
    {
     "data": {
      "text/plain": [
       "Order Date\n",
       "2017-01-01    397.602133 \n",
       "2017-02-01    528.179800 \n",
       "2017-03-01    544.672240 \n",
       "2017-04-01    453.297905 \n",
       "2017-05-01    678.302328 \n",
       "2017-06-01    826.460291 \n",
       "2017-07-01    562.524857 \n",
       "2017-08-01    857.881889 \n",
       "2017-09-01    1209.508583\n",
       "2017-10-01    875.362728 \n",
       "2017-11-01    1277.817759\n",
       "2017-12-01    1256.298672\n",
       "Freq: MS, Name: Sales, dtype: float64"
      ]
     },
     "execution_count": 154,
     "metadata": {},
     "output_type": "execute_result"
    }
   ],
   "source": [
    "y = Furniture['Sales'].resample('MS').mean()\n",
    "y['2017':]"
   ]
  },
  {
   "cell_type": "code",
   "execution_count": 159,
   "metadata": {},
   "outputs": [
    {
     "data": {
      "image/png": "[encoded data removed]",
      "text/plain": [
       "<Figure size 1080x576 with 1 Axes>"
      ]
     },
     "metadata": {},
     "output_type": "display_data"
    }
   ],
   "source": [
    "y.plot(figsize = (15, 8))\n",
    "plt.show()"
   ]
  },
  {
   "cell_type": "code",
   "execution_count": 160,
   "metadata": {},
   "outputs": [
    {
     "ename": "AttributeError",
     "evalue": "'Series' object has no attribute 'co2'",
     "output_type": "error",
     "traceback": [
      "\u001b[1;31m---------------------------------------------------------------------------\u001b[0m",
      "\u001b[1;31mAttributeError\u001b[0m                            Traceback (most recent call last)",
      "\u001b[1;32m<ipython-input-160-9ad3f6e22eca>\u001b[0m in \u001b[0;36m<module>\u001b[1;34m\u001b[0m\n\u001b[0;32m      1\u001b[0m \u001b[1;33m\u001b[0m\u001b[0m\n\u001b[1;32m----> 2\u001b[1;33m \u001b[0my\u001b[0m\u001b[1;33m.\u001b[0m\u001b[0mco2\u001b[0m\u001b[1;33m.\u001b[0m\u001b[0minterpolate\u001b[0m\u001b[1;33m(\u001b[0m\u001b[0minplace\u001b[0m\u001b[1;33m=\u001b[0m\u001b[1;32mTrue\u001b[0m\u001b[1;33m)\u001b[0m\u001b[1;33m\u001b[0m\u001b[1;33m\u001b[0m\u001b[0m\n\u001b[0m\u001b[0;32m      3\u001b[0m \u001b[1;33m\u001b[0m\u001b[0m\n\u001b[0;32m      4\u001b[0m \u001b[0mres\u001b[0m \u001b[1;33m=\u001b[0m \u001b[0msm\u001b[0m\u001b[1;33m.\u001b[0m\u001b[0mtsa\u001b[0m\u001b[1;33m.\u001b[0m\u001b[0mseasonal_decompose\u001b[0m\u001b[1;33m(\u001b[0m\u001b[0my\u001b[0m\u001b[1;33m.\u001b[0m\u001b[0mco2\u001b[0m\u001b[1;33m)\u001b[0m\u001b[1;33m\u001b[0m\u001b[1;33m\u001b[0m\u001b[0m\n\u001b[0;32m      5\u001b[0m \u001b[0mresplot\u001b[0m \u001b[1;33m=\u001b[0m \u001b[0mres\u001b[0m\u001b[1;33m.\u001b[0m\u001b[0mplot\u001b[0m\u001b[1;33m(\u001b[0m\u001b[1;33m)\u001b[0m\u001b[1;33m\u001b[0m\u001b[1;33m\u001b[0m\u001b[0m\n",
      "\u001b[1;32m~\\AppData\\Local\\Continuum\\anaconda3\\lib\\site-packages\\pandas\\core\\generic.py\u001b[0m in \u001b[0;36m__getattr__\u001b[1;34m(self, name)\u001b[0m\n\u001b[0;32m   4374\u001b[0m             \u001b[1;32mif\u001b[0m \u001b[0mself\u001b[0m\u001b[1;33m.\u001b[0m\u001b[0m_info_axis\u001b[0m\u001b[1;33m.\u001b[0m\u001b[0m_can_hold_identifiers_and_holds_name\u001b[0m\u001b[1;33m(\u001b[0m\u001b[0mname\u001b[0m\u001b[1;33m)\u001b[0m\u001b[1;33m:\u001b[0m\u001b[1;33m\u001b[0m\u001b[1;33m\u001b[0m\u001b[0m\n\u001b[0;32m   4375\u001b[0m                 \u001b[1;32mreturn\u001b[0m \u001b[0mself\u001b[0m\u001b[1;33m[\u001b[0m\u001b[0mname\u001b[0m\u001b[1;33m]\u001b[0m\u001b[1;33m\u001b[0m\u001b[1;33m\u001b[0m\u001b[0m\n\u001b[1;32m-> 4376\u001b[1;33m             \u001b[1;32mreturn\u001b[0m \u001b[0mobject\u001b[0m\u001b[1;33m.\u001b[0m\u001b[0m__getattribute__\u001b[0m\u001b[1;33m(\u001b[0m\u001b[0mself\u001b[0m\u001b[1;33m,\u001b[0m \u001b[0mname\u001b[0m\u001b[1;33m)\u001b[0m\u001b[1;33m\u001b[0m\u001b[1;33m\u001b[0m\u001b[0m\n\u001b[0m\u001b[0;32m   4377\u001b[0m \u001b[1;33m\u001b[0m\u001b[0m\n\u001b[0;32m   4378\u001b[0m     \u001b[1;32mdef\u001b[0m \u001b[0m__setattr__\u001b[0m\u001b[1;33m(\u001b[0m\u001b[0mself\u001b[0m\u001b[1;33m,\u001b[0m \u001b[0mname\u001b[0m\u001b[1;33m,\u001b[0m \u001b[0mvalue\u001b[0m\u001b[1;33m)\u001b[0m\u001b[1;33m:\u001b[0m\u001b[1;33m\u001b[0m\u001b[1;33m\u001b[0m\u001b[0m\n",
      "\u001b[1;31mAttributeError\u001b[0m: 'Series' object has no attribute 'co2'"
     ]
    }
   ],
   "source": [
    "\n",
    "\n",
    "decomposition = sm.tsa.seasonal_decompose(y, model='additive')"
   ]
  }
 ],
 "metadata": {
  "kernelspec": {
   "display_name": "Python 3",
   "language": "python",
   "name": "python3"
  },
  "language_info": {
   "codemirror_mode": {
    "name": "ipython",
    "version": 3
   },
   "file_extension": ".py",
   "mimetype": "text/x-python",
   "name": "python",
   "nbconvert_exporter": "python",
   "pygments_lexer": "ipython3",
   "version": "3.7.1"
  }
 },
 "nbformat": 4,
 "nbformat_minor": 2
}
